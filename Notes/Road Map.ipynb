{
 "cells": [
  {
   "cell_type": "markdown",
   "metadata": {},
   "source": [
    "#                                               Road Map"
   ]
  },
  {
   "cell_type": "markdown",
   "metadata": {},
   "source": [
    "# Goals"
   ]
  },
  {
   "cell_type": "markdown",
   "metadata": {},
   "source": [
    "G1. Go Imbd find actor or actress rating - STARmeter"
   ]
  },
  {
   "cell_type": "markdown",
   "metadata": {},
   "source": [
    "G2. Made a Database of movies and Awards they recived & include revenue\n",
    "collect past award information and analyse data(budget, Director actor& actress' name)\n",
    "- Dimitry background goal"
   ]
  },
  {
   "cell_type": "markdown",
   "metadata": {},
   "source": [
    "G3. Can recommend director and writer depend on the genre."
   ]
  },
  {
   "cell_type": "markdown",
   "metadata": {},
   "source": [
    "G4. Make worst movie - on-brand for Microsoft"
   ]
  },
  {
   "cell_type": "markdown",
   "metadata": {},
   "source": [
    "# Questions"
   ]
  },
  {
   "cell_type": "markdown",
   "metadata": {},
   "source": [
    "Q1. Find relationship between poplularity & revenue from worldwide gross metric "
   ]
  },
  {
   "cell_type": "markdown",
   "metadata": {},
   "source": [
    "Q2. Find top 10 studio with their the revenue ratio every year.\n",
    "- Kibae (10 year minimum) - by decade. Monday\n",
    "- budget vs lots of movies in relation to worldwide gross.\n",
    "- budget vs small amount of movies in relation to worldwide gross."
   ]
  },
  {
   "cell_type": "markdown",
   "metadata": {},
   "source": [
    "Q3. Movie genre trend - I think there is a kind of trend of movie genre, so we can assume which kind of movie will be popular in the future. - Track genre trend year by year and decade by decade vs worldwide gross metric."
   ]
  },
  {
   "cell_type": "markdown",
   "metadata": {},
   "source": [
    "Q4. Top 10 grossing movies. - Director, writer, genre, remake movie, revenue, use statistically significant(stdev, t-test)\n",
    "- Talia (10 year minimum) Monday"
   ]
  },
  {
   "cell_type": "markdown",
   "metadata": {},
   "source": [
    "Q5. Find best writer and director combination or any other statistically relevant position(cinematographer, composer, etc.)\n",
    "- Dimitry Monday"
   ]
  },
  {
   "cell_type": "markdown",
   "metadata": {},
   "source": [
    "#                                      Phase 1 Project Checklist"
   ]
  },
  {
   "cell_type": "markdown",
   "metadata": {},
   "source": [
    "# Business Understanding"
   ]
  },
  {
   "cell_type": "markdown",
   "metadata": {},
   "source": [
    "### Notebook clearly explains the project’s value for helping a specific stakeholder solve a real-world problem.\n",
    "    \n",
    "-    Introduction explains the real-world problem the project aims to solve\n",
    "    \n",
    "-    Introduction identifies stakeholders who could use the project and how they would use it\n",
    "    \n",
    "-    Conclusion summarizes implications of the project for the real-world problem and stakeholders "
   ]
  },
  {
   "cell_type": "markdown",
   "metadata": {},
   "source": [
    "# Data Understanding"
   ]
  },
  {
   "cell_type": "markdown",
   "metadata": {},
   "source": [
    "### Notebook clearly describes the source and properties of the data to show how useful the data are for solving the problem of interest.\n",
    "    \n",
    "-    Describe the data sources and explain why the data are suitable for the project\n",
    "    \n",
    "-    Present the size of the dataset and descriptive statistics for all features used in the analysis\n",
    "    \n",
    "-    Justify the inclusion of features based on their properties and relevance for the project\n",
    "    \n",
    "-    Identify any limitations of the data that have implications for the project"
   ]
  },
  {
   "cell_type": "markdown",
   "metadata": {},
   "source": [
    "# Data Preparation"
   ]
  },
  {
   "cell_type": "markdown",
   "metadata": {},
   "source": [
    "### Notebook shows how you prepare your data and explains why by including:\n",
    "\n",
    "- Instructions or code needed to get and prepare the raw data for analysis\n",
    "- Code comments and text to explain what your data preparation code does\n",
    "- Valid justifications for why the steps you took are appropriate for the problem you are solving"
   ]
  },
  {
   "cell_type": "markdown",
   "metadata": {},
   "source": [
    "# Data Analysis"
   ]
  },
  {
   "cell_type": "markdown",
   "metadata": {},
   "source": [
    "### Notebook promotes three recommendations for choosing films to produce.\n",
    "\n",
    "- Uses three or more findings from data analyses to support recommendations\n",
    "- Explains why the findings support the recommendations\n",
    "- Explains how the recommendations would help the new movie studio succeed"
   ]
  },
  {
   "cell_type": "markdown",
   "metadata": {},
   "source": [
    "# Visualization"
   ]
  },
  {
   "cell_type": "markdown",
   "metadata": {},
   "source": [
    "### Notebook includes three relevant and polished visualizations of findings that:\n",
    "\n",
    "- Help the project stakeholder understand the value or success of the project\n",
    "- Have text and marks to aid reader interpretation, such as graph and axis titles, axis ticks and labels, or legend (varies by visualization type)\n",
    "- Use color, size, and/or location to appropriately facilitate comparisons\n",
    "- Are not cluttered, dense, or illegible"
   ]
  },
  {
   "cell_type": "markdown",
   "metadata": {},
   "source": [
    "# GitHub Repository"
   ]
  },
  {
   "cell_type": "markdown",
   "metadata": {},
   "source": [
    "### Project repository demonstrates professional “best practices”:\n",
    "\n",
    "- README.md includes concise summary of project with all data science steps\n",
    "- README.md links to presentation and sources\n",
    "- README.md includes instructions for navigating the repository\n",
    "- Files and folders are named briefly and descriptively, with consistent naming conventions\n",
    "- Files and folders are organized logically and consistently\n",
    "- Commit history includes regular commits with informative commit messages\n",
    "- Large or sensitive files are listed in .gitignore and not pushed to GitHub"
   ]
  },
  {
   "cell_type": "markdown",
   "metadata": {},
   "source": [
    "# Presentation Content"
   ]
  },
  {
   "cell_type": "markdown",
   "metadata": {},
   "source": [
    "### Presentation clearly demonstrates the value of the project to stakeholders by:\n",
    "\n",
    "- Using plain language and clear visuals accessible to non-technical stakeholders\n",
    "- Describing the project goals, data, methods, and results\n",
    "- Explicitly connecting the descriptions of the project to stakeholder needs"
   ]
  },
  {
   "cell_type": "code",
   "execution_count": null,
   "metadata": {},
   "outputs": [],
   "source": []
  }
 ],
 "metadata": {
  "kernelspec": {
   "display_name": "Python 3",
   "language": "python",
   "name": "python3"
  },
  "language_info": {
   "codemirror_mode": {
    "name": "ipython",
    "version": 3
   },
   "file_extension": ".py",
   "mimetype": "text/x-python",
   "name": "python",
   "nbconvert_exporter": "python",
   "pygments_lexer": "ipython3",
   "version": "3.8.5"
  }
 },
 "nbformat": 4,
 "nbformat_minor": 4
}
