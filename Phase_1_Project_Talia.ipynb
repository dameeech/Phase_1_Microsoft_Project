{
 "cells": [
  {
   "cell_type": "markdown",
   "metadata": {},
   "source": [
    "# Find Top 20 Most Profitable Movies"
   ]
  },
  {
   "cell_type": "code",
   "execution_count": 1,
   "metadata": {},
   "outputs": [],
   "source": [
    "import pandas as pd\n",
    "import numpy as np\n",
    "import requests as rq\n",
    "import sqlite3\n",
    "from sklearn.preprocessing import OneHotEncoder\n",
    "from zipfile import ZipFile\n",
    "import tarfile\n",
    "import gzip\n",
    "import matplotlib.pyplot as plt\n",
    "%matplotlib inline"
   ]
  },
  {
   "cell_type": "code",
   "execution_count": 2,
   "metadata": {},
   "outputs": [],
   "source": [
    "# Bom Movie Data\n",
    "with gzip.open(\"zippedData/bom.movie_gross.csv.gz\", \"rb\") as f:\n",
    "    bom_movie_gross = pd.read_csv(f)\n",
    "\n",
    "# IMDB Name Data    \n",
    "with gzip.open(\"zippedData/imdb.name.basics.csv.gz\", \"rb\") as f:\n",
    "    imdb_name_basics = pd.read_csv(f)\n",
    "\n",
    "with gzip.open(\"zippedData/imdb.title.akas.csv.gz\", \"rb\") as f:\n",
    "    imdb_title_akas = pd.read_csv(f)\n",
    "\n",
    "with gzip.open(\"zippedData/imdb.title.basics.csv.gz\", \"rb\") as f:\n",
    "    imdb_title_basics = pd.read_csv(f)\n",
    "\n",
    "with gzip.open(\"zippedData/imdb.title.crew.csv.gz\", \"rb\") as f:\n",
    "    imdb_title_crew = pd.read_csv(f)\n",
    "    \n",
    "with gzip.open(\"zippedData/imdb.title.principals.csv.gz\", \"rb\") as f:\n",
    "    imdb_title_principals = pd.read_csv(f)\n",
    "\n",
    "with gzip.open(\"zippedData/imdb.title.ratings.csv.gz\", \"rb\") as f:\n",
    "    imdb_title_ratings = pd.read_csv(f)\n",
    "\n",
    "# Rotten Tomatoes Movie Data\n",
    "with gzip.open(\"zippedData/rt.movie_info.tsv.gz\", \"rb\") as f:\n",
    "    rt_movie_info = pd.read_csv(f, sep=\"\\t\", encoding='latin1')\n",
    "    \n",
    "with gzip.open(\"zippedData/rt.reviews.tsv.gz\", \"rb\") as f:\n",
    "    rt_reviews = pd.read_csv(f, sep=\"\\t\", encoding='latin1')\n",
    "\n",
    "# TMDB Movie Data\n",
    "with gzip.open(\"zippedData/tmdb.movies.csv.gz\", \"rb\") as f:\n",
    "    tmdb_movies = pd.read_csv(f)\n",
    "\n",
    "# TN Movie Data\n",
    "with gzip.open(\"zippedData/tn.movie_budgets.csv.gz\", \"rb\") as f:\n",
    "    tn_movie_budgets = pd.read_csv(f)"
   ]
  },
  {
   "cell_type": "code",
   "execution_count": 3,
   "metadata": {},
   "outputs": [],
   "source": [
    "#Rename dataframe & remove dollar sign and commas from each column\n",
    "df = tn_movie_budgets\n",
    "df['production_budget'] = df['production_budget'].str.replace(',','')\n",
    "df['production_budget'] = df['production_budget'].str.replace('$','')\n",
    "df['domestic_gross'] = df['domestic_gross'].str.replace(',','')\n",
    "df['domestic_gross'] = df['domestic_gross'].str.replace('$','')\n",
    "df['worldwide_gross'] = df['worldwide_gross'].str.replace(',','')\n",
    "df['worldwide_gross'] = df['worldwide_gross'].str.replace('$','')"
   ]
  },
  {
   "cell_type": "code",
   "execution_count": 4,
   "metadata": {},
   "outputs": [],
   "source": [
    "#Reformat monetary amount from object to integer\n",
    "df['production_budget'] = df['production_budget'].astype(int)\n",
    "df['domestic_gross'] = df['domestic_gross'].astype(int)\n",
    "df['worldwide_gross'] = df['worldwide_gross'].astype(int)"
   ]
  },
  {
   "cell_type": "code",
   "execution_count": 5,
   "metadata": {},
   "outputs": [
    {
     "data": {
      "text/plain": [
       "['Avatar',\n",
       " 'Titanic',\n",
       " 'Avengers: Infinity War',\n",
       " 'Star Wars Ep. VII: The Force Awakens',\n",
       " 'Jurassic World',\n",
       " 'Furious 7',\n",
       " 'The Avengers',\n",
       " 'Harry Potter and the Deathly Hallows: Part II',\n",
       " 'Black Panther',\n",
       " 'Jurassic World: Fallen Kingdom',\n",
       " 'Frozen',\n",
       " 'Beauty and the Beast',\n",
       " 'Minions',\n",
       " 'Avengers: Age of Ultron',\n",
       " 'The Lord of the Rings: The Return of the King',\n",
       " 'Incredibles 2',\n",
       " 'Iron Man 3',\n",
       " 'Star Wars Ep. VIII: The Last Jedi',\n",
       " 'Aquaman',\n",
       " 'The Fate of the Furious']"
      ]
     },
     "execution_count": 5,
     "metadata": {},
     "output_type": "execute_result"
    }
   ],
   "source": [
    "#Make new column 'profit' and new list of movies with the 20 highest profits\n",
    "df['profit'] = df['worldwide_gross']-df['production_budget']\n",
    "df_prof_sorted = df.sort_values('profit', ascending = False)\n",
    "df_top_20_prof = df_prof_sorted[0:20]\n",
    "list_top_20 = list(df_top_20_prof['movie'])\n",
    "list_top_20"
   ]
  },
  {
   "cell_type": "code",
   "execution_count": 7,
   "metadata": {},
   "outputs": [],
   "source": [
    "#Manually sort from the top 20 list into 4 categories\n",
    "franchise_sequel = ['Avengers: Infinity War', 'Star Wars Ep. VII: The Force Awakens', 'Jurassic World', 'Furious 7', 'Harry Potter and the Deathly Hallows: Part II','Jurassic World: Fallen Kingdom', 'Minions','Avengers: Age of Ultron','The Lord of the Rings: The Return of the King','Incredibles 2','Iron Man 3','Star Wars Ep. VIII: The Last Jedi','The Fate of the Furious']\n",
    "franchise_original = ['Avatar', 'The Avengers', 'Black Panther', 'Frozen', 'Aquaman']\n",
    "remake = ['Beauty and the Beast']\n",
    "stand_alone = ['Titanic']"
   ]
  },
  {
   "cell_type": "code",
   "execution_count": 8,
   "metadata": {},
   "outputs": [
    {
     "data": {
      "image/png": "[encoded data removed]",
      "text/plain": [
       "<Figure size 720x720 with 1 Axes>"
      ]
     },
     "metadata": {
      "needs_background": "light"
     },
     "output_type": "display_data"
    }
   ],
   "source": [
    "#Plot how many of the top 20 profiting movies are in each category\n",
    "fig, ax = plt.subplots(figsize = (10,10))\n",
    "\n",
    "x = ['Franchise Sequel', 'Franchise Original', 'Remake', 'Stand-Alone']\n",
    "y = [len(franchise_sequel), len(franchise_original), len(remake), len(stand_alone)]\n",
    "ax.bar(x,y)\n",
    "ax.set_title('Category of Top 20 Movies by Profit')\n",
    "ax.set_ylabel('Number of movies in top 20')\n",
    "ax.set_xlabel('Category');"
   ]
  }
 ],
 "metadata": {
  "kernelspec": {
   "display_name": "Python 3",
   "language": "python",
   "name": "python3"
  },
  "language_info": {
   "codemirror_mode": {
    "name": "ipython",
    "version": 3
   },
   "file_extension": ".py",
   "mimetype": "text/x-python",
   "name": "python",
   "nbconvert_exporter": "python",
   "pygments_lexer": "ipython3",
   "version": "3.8.5"
  }
 },
 "nbformat": 4,
 "nbformat_minor": 2
}
