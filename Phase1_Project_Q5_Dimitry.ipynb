{
 "cells": [
  {
   "cell_type": "markdown",
   "metadata": {},
   "source": [
    "# Q5. Find best genre based on worldwide gross."
   ]
  },
  {
   "cell_type": "code",
   "execution_count": 1,
   "metadata": {},
   "outputs": [],
   "source": [
    "# import statements\n",
    "import pandas as pd\n",
    "import numpy as np\n",
    "import requests as rq\n",
    "import sqlite3\n",
    "from sklearn.preprocessing import OneHotEncoder\n",
    "from zipfile import ZipFile\n",
    "import tarfile\n",
    "import gzip\n",
    "import matplotlib.pyplot as plt"
   ]
  },
  {
   "cell_type": "code",
   "execution_count": 2,
   "metadata": {},
   "outputs": [],
   "source": [
    "# IMDB Name Data    \n",
    "with gzip.open(\"zippedData/imdb.name.basics.csv.gz\", \"rb\") as f:\n",
    "    imdb_name_basics = pd.read_csv(f)\n",
    "\n",
    "with gzip.open(\"zippedData/imdb.title.akas.csv.gz\", \"rb\") as f:\n",
    "    imdb_title_akas = pd.read_csv(f)\n",
    "\n",
    "with gzip.open(\"zippedData/imdb.title.basics.csv.gz\", \"rb\") as f:\n",
    "    imdb_title_basics = pd.read_csv(f)\n",
    "\n",
    "with gzip.open(\"zippedData/imdb.title.crew.csv.gz\", \"rb\") as f:\n",
    "    imdb_title_crew = pd.read_csv(f)\n",
    "    \n",
    "with gzip.open(\"zippedData/imdb.title.principals.csv.gz\", \"rb\") as f:\n",
    "    imdb_title_principals = pd.read_csv(f)\n",
    "\n",
    "with gzip.open(\"zippedData/imdb.title.ratings.csv.gz\", \"rb\") as f:\n",
    "    imdb_title_ratings = pd.read_csv(f)\n",
    "    \n",
    "# TN Movie Data\n",
    "with gzip.open(\"zippedData/tn.movie_budgets.csv.gz\", \"rb\") as f:\n",
    "    tn_movie_budgets = pd.read_csv(f)"
   ]
  },
  {
   "cell_type": "markdown",
   "metadata": {},
   "source": [
    "# Data Exploration"
   ]
  },
  {
   "cell_type": "code",
   "execution_count": 3,
   "metadata": {},
   "outputs": [
    {
     "data": {
      "text/html": [
       "<div>\n",
       "<style scoped>\n",
       "    .dataframe tbody tr th:only-of-type {\n",
       "        vertical-align: middle;\n",
       "    }\n",
       "\n",
       "    .dataframe tbody tr th {\n",
       "        vertical-align: top;\n",
       "    }\n",
       "\n",
       "    .dataframe thead th {\n",
       "        text-align: right;\n",
       "    }\n",
       "</style>\n",
       "<table border=\"1\" class=\"dataframe\">\n",
       "  <thead>\n",
       "    <tr style=\"text-align: right;\">\n",
       "      <th></th>\n",
       "      <th>id</th>\n",
       "      <th>release_date</th>\n",
       "      <th>movie</th>\n",
       "      <th>production_budget</th>\n",
       "      <th>domestic_gross</th>\n",
       "      <th>worldwide_gross</th>\n",
       "    </tr>\n",
       "  </thead>\n",
       "  <tbody>\n",
       "    <tr>\n",
       "      <th>0</th>\n",
       "      <td>1</td>\n",
       "      <td>Dec 18, 2009</td>\n",
       "      <td>Avatar</td>\n",
       "      <td>$425,000,000</td>\n",
       "      <td>$760,507,625</td>\n",
       "      <td>$2,776,345,279</td>\n",
       "    </tr>\n",
       "  </tbody>\n",
       "</table>\n",
       "</div>"
      ],
      "text/plain": [
       "   id  release_date   movie production_budget domestic_gross worldwide_gross\n",
       "0   1  Dec 18, 2009  Avatar      $425,000,000   $760,507,625  $2,776,345,279"
      ]
     },
     "execution_count": 3,
     "metadata": {},
     "output_type": "execute_result"
    }
   ],
   "source": [
    "tn_movie_budgets.head(1)"
   ]
  },
  {
   "cell_type": "code",
   "execution_count": 4,
   "metadata": {},
   "outputs": [
    {
     "data": {
      "text/html": [
       "<div>\n",
       "<style scoped>\n",
       "    .dataframe tbody tr th:only-of-type {\n",
       "        vertical-align: middle;\n",
       "    }\n",
       "\n",
       "    .dataframe tbody tr th {\n",
       "        vertical-align: top;\n",
       "    }\n",
       "\n",
       "    .dataframe thead th {\n",
       "        text-align: right;\n",
       "    }\n",
       "</style>\n",
       "<table border=\"1\" class=\"dataframe\">\n",
       "  <thead>\n",
       "    <tr style=\"text-align: right;\">\n",
       "      <th></th>\n",
       "      <th>title_id</th>\n",
       "      <th>ordering</th>\n",
       "      <th>title</th>\n",
       "      <th>region</th>\n",
       "      <th>language</th>\n",
       "      <th>types</th>\n",
       "      <th>attributes</th>\n",
       "      <th>is_original_title</th>\n",
       "    </tr>\n",
       "  </thead>\n",
       "  <tbody>\n",
       "    <tr>\n",
       "      <th>0</th>\n",
       "      <td>tt0369610</td>\n",
       "      <td>10</td>\n",
       "      <td>Джурасик свят</td>\n",
       "      <td>BG</td>\n",
       "      <td>bg</td>\n",
       "      <td>NaN</td>\n",
       "      <td>NaN</td>\n",
       "      <td>0.0</td>\n",
       "    </tr>\n",
       "  </tbody>\n",
       "</table>\n",
       "</div>"
      ],
      "text/plain": [
       "    title_id  ordering          title region language types attributes  \\\n",
       "0  tt0369610        10  Джурасик свят     BG       bg   NaN        NaN   \n",
       "\n",
       "   is_original_title  \n",
       "0                0.0  "
      ]
     },
     "execution_count": 4,
     "metadata": {},
     "output_type": "execute_result"
    }
   ],
   "source": [
    "imdb_title_akas.head(1)"
   ]
  },
  {
   "cell_type": "code",
   "execution_count": 5,
   "metadata": {},
   "outputs": [
    {
     "data": {
      "text/html": [
       "<div>\n",
       "<style scoped>\n",
       "    .dataframe tbody tr th:only-of-type {\n",
       "        vertical-align: middle;\n",
       "    }\n",
       "\n",
       "    .dataframe tbody tr th {\n",
       "        vertical-align: top;\n",
       "    }\n",
       "\n",
       "    .dataframe thead th {\n",
       "        text-align: right;\n",
       "    }\n",
       "</style>\n",
       "<table border=\"1\" class=\"dataframe\">\n",
       "  <thead>\n",
       "    <tr style=\"text-align: right;\">\n",
       "      <th></th>\n",
       "      <th>tconst</th>\n",
       "      <th>primary_title</th>\n",
       "      <th>original_title</th>\n",
       "      <th>start_year</th>\n",
       "      <th>runtime_minutes</th>\n",
       "      <th>genres</th>\n",
       "    </tr>\n",
       "  </thead>\n",
       "  <tbody>\n",
       "    <tr>\n",
       "      <th>0</th>\n",
       "      <td>tt0063540</td>\n",
       "      <td>Sunghursh</td>\n",
       "      <td>Sunghursh</td>\n",
       "      <td>2013</td>\n",
       "      <td>175.0</td>\n",
       "      <td>Action,Crime,Drama</td>\n",
       "    </tr>\n",
       "  </tbody>\n",
       "</table>\n",
       "</div>"
      ],
      "text/plain": [
       "      tconst primary_title original_title  start_year  runtime_minutes  \\\n",
       "0  tt0063540     Sunghursh      Sunghursh        2013            175.0   \n",
       "\n",
       "               genres  \n",
       "0  Action,Crime,Drama  "
      ]
     },
     "execution_count": 5,
     "metadata": {},
     "output_type": "execute_result"
    }
   ],
   "source": [
    "imdb_title_basics.head(1)"
   ]
  },
  {
   "cell_type": "markdown",
   "metadata": {},
   "source": [
    "# Data Cleaning"
   ]
  },
  {
   "cell_type": "code",
   "execution_count": 6,
   "metadata": {},
   "outputs": [],
   "source": [
    "# Select only movies from US region and change column 'title' to 'movie'\n",
    "x_df = imdb_title_akas.loc[imdb_title_akas['region'] == 'US']\n",
    "x_df = x_df.rename(columns={'title': 'movie'})"
   ]
  },
  {
   "cell_type": "code",
   "execution_count": 7,
   "metadata": {},
   "outputs": [
    {
     "data": {
      "text/html": [
       "<div>\n",
       "<style scoped>\n",
       "    .dataframe tbody tr th:only-of-type {\n",
       "        vertical-align: middle;\n",
       "    }\n",
       "\n",
       "    .dataframe tbody tr th {\n",
       "        vertical-align: top;\n",
       "    }\n",
       "\n",
       "    .dataframe thead th {\n",
       "        text-align: right;\n",
       "    }\n",
       "</style>\n",
       "<table border=\"1\" class=\"dataframe\">\n",
       "  <thead>\n",
       "    <tr style=\"text-align: right;\">\n",
       "      <th></th>\n",
       "      <th>title_id</th>\n",
       "      <th>ordering</th>\n",
       "      <th>movie</th>\n",
       "      <th>region</th>\n",
       "      <th>language</th>\n",
       "      <th>types</th>\n",
       "      <th>attributes</th>\n",
       "      <th>is_original_title</th>\n",
       "    </tr>\n",
       "  </thead>\n",
       "  <tbody>\n",
       "    <tr>\n",
       "      <th>12</th>\n",
       "      <td>tt0369610</td>\n",
       "      <td>21</td>\n",
       "      <td>Jurassic World 3D</td>\n",
       "      <td>US</td>\n",
       "      <td>NaN</td>\n",
       "      <td>NaN</td>\n",
       "      <td>3-D version</td>\n",
       "      <td>0.0</td>\n",
       "    </tr>\n",
       "  </tbody>\n",
       "</table>\n",
       "</div>"
      ],
      "text/plain": [
       "     title_id  ordering              movie region language types   attributes  \\\n",
       "12  tt0369610        21  Jurassic World 3D     US      NaN   NaN  3-D version   \n",
       "\n",
       "    is_original_title  \n",
       "12                0.0  "
      ]
     },
     "execution_count": 7,
     "metadata": {},
     "output_type": "execute_result"
    }
   ],
   "source": [
    "x_df.head(1)"
   ]
  },
  {
   "cell_type": "code",
   "execution_count": 8,
   "metadata": {},
   "outputs": [],
   "source": [
    "# Merge tn_movie_budgets and x_df on tn_movie_budgets DF\n",
    "gross_df = pd.merge(tn_movie_budgets, x_df, how='left', on='movie')"
   ]
  },
  {
   "cell_type": "code",
   "execution_count": 9,
   "metadata": {},
   "outputs": [
    {
     "data": {
      "text/html": [
       "<div>\n",
       "<style scoped>\n",
       "    .dataframe tbody tr th:only-of-type {\n",
       "        vertical-align: middle;\n",
       "    }\n",
       "\n",
       "    .dataframe tbody tr th {\n",
       "        vertical-align: top;\n",
       "    }\n",
       "\n",
       "    .dataframe thead th {\n",
       "        text-align: right;\n",
       "    }\n",
       "</style>\n",
       "<table border=\"1\" class=\"dataframe\">\n",
       "  <thead>\n",
       "    <tr style=\"text-align: right;\">\n",
       "      <th></th>\n",
       "      <th>id</th>\n",
       "      <th>release_date</th>\n",
       "      <th>movie</th>\n",
       "      <th>production_budget</th>\n",
       "      <th>domestic_gross</th>\n",
       "      <th>worldwide_gross</th>\n",
       "      <th>title_id</th>\n",
       "      <th>ordering</th>\n",
       "      <th>region</th>\n",
       "      <th>language</th>\n",
       "      <th>types</th>\n",
       "      <th>attributes</th>\n",
       "      <th>is_original_title</th>\n",
       "    </tr>\n",
       "  </thead>\n",
       "  <tbody>\n",
       "    <tr>\n",
       "      <th>0</th>\n",
       "      <td>1</td>\n",
       "      <td>Dec 18, 2009</td>\n",
       "      <td>Avatar</td>\n",
       "      <td>$425,000,000</td>\n",
       "      <td>$760,507,625</td>\n",
       "      <td>$2,776,345,279</td>\n",
       "      <td>NaN</td>\n",
       "      <td>NaN</td>\n",
       "      <td>NaN</td>\n",
       "      <td>NaN</td>\n",
       "      <td>NaN</td>\n",
       "      <td>NaN</td>\n",
       "      <td>NaN</td>\n",
       "    </tr>\n",
       "  </tbody>\n",
       "</table>\n",
       "</div>"
      ],
      "text/plain": [
       "   id  release_date   movie production_budget domestic_gross worldwide_gross  \\\n",
       "0   1  Dec 18, 2009  Avatar      $425,000,000   $760,507,625  $2,776,345,279   \n",
       "\n",
       "  title_id  ordering region language types attributes  is_original_title  \n",
       "0      NaN       NaN    NaN      NaN   NaN        NaN                NaN  "
      ]
     },
     "execution_count": 9,
     "metadata": {},
     "output_type": "execute_result"
    }
   ],
   "source": [
    "gross_df.head(1)"
   ]
  },
  {
   "cell_type": "code",
   "execution_count": 10,
   "metadata": {},
   "outputs": [],
   "source": [
    "# Clean and turn 'worldwide_gross' into float for accurate sorting\n",
    "gross_df['worldwide_gross'] = gross_df['worldwide_gross'].str.replace(',', '')\n",
    "gross_df['worldwide_gross'] = gross_df['worldwide_gross'].str.replace('$', '')\n",
    "gross_df['worldwide_gross'] = gross_df['worldwide_gross'].astype(float)\n",
    "gross_df1 = gross_df.sort_values('worldwide_gross', ascending=False)"
   ]
  },
  {
   "cell_type": "code",
   "execution_count": 11,
   "metadata": {},
   "outputs": [],
   "source": [
    "# Clean and turn 'production_budget' into float for accurate sorting\n",
    "gross_df['production_budget'] = gross_df['production_budget'].str.replace(',', '')\n",
    "gross_df['production_budget'] = gross_df['production_budget'].str.replace('$', '')\n",
    "gross_df1['production_budget'] = gross_df['production_budget'].astype(float)"
   ]
  },
  {
   "cell_type": "code",
   "execution_count": 12,
   "metadata": {},
   "outputs": [],
   "source": [
    "# Clean unused columns\n",
    "movie_df = gross_df1.drop(['id', 'ordering', 'region', 'language', \n",
    "                           'types', 'attributes', 'is_original_title'], axis=1)"
   ]
  },
  {
   "cell_type": "code",
   "execution_count": 13,
   "metadata": {},
   "outputs": [],
   "source": [
    "# Drop all duplicate film entries\n",
    "movie_df = movie_df.drop_duplicates()"
   ]
  },
  {
   "cell_type": "code",
   "execution_count": 14,
   "metadata": {},
   "outputs": [
    {
     "data": {
      "text/html": [
       "<div>\n",
       "<style scoped>\n",
       "    .dataframe tbody tr th:only-of-type {\n",
       "        vertical-align: middle;\n",
       "    }\n",
       "\n",
       "    .dataframe tbody tr th {\n",
       "        vertical-align: top;\n",
       "    }\n",
       "\n",
       "    .dataframe thead th {\n",
       "        text-align: right;\n",
       "    }\n",
       "</style>\n",
       "<table border=\"1\" class=\"dataframe\">\n",
       "  <thead>\n",
       "    <tr style=\"text-align: right;\">\n",
       "      <th></th>\n",
       "      <th>release_date</th>\n",
       "      <th>movie</th>\n",
       "      <th>production_budget</th>\n",
       "      <th>domestic_gross</th>\n",
       "      <th>worldwide_gross</th>\n",
       "      <th>title_id</th>\n",
       "    </tr>\n",
       "  </thead>\n",
       "  <tbody>\n",
       "    <tr>\n",
       "      <th>0</th>\n",
       "      <td>Dec 18, 2009</td>\n",
       "      <td>Avatar</td>\n",
       "      <td>425000000.0</td>\n",
       "      <td>$760,507,625</td>\n",
       "      <td>2.776345e+09</td>\n",
       "      <td>NaN</td>\n",
       "    </tr>\n",
       "  </tbody>\n",
       "</table>\n",
       "</div>"
      ],
      "text/plain": [
       "   release_date   movie  production_budget domestic_gross  worldwide_gross  \\\n",
       "0  Dec 18, 2009  Avatar        425000000.0   $760,507,625     2.776345e+09   \n",
       "\n",
       "  title_id  \n",
       "0      NaN  "
      ]
     },
     "execution_count": 14,
     "metadata": {},
     "output_type": "execute_result"
    }
   ],
   "source": [
    "movie_df.head(1)"
   ]
  },
  {
   "cell_type": "code",
   "execution_count": 15,
   "metadata": {},
   "outputs": [
    {
     "data": {
      "text/html": [
       "<div>\n",
       "<style scoped>\n",
       "    .dataframe tbody tr th:only-of-type {\n",
       "        vertical-align: middle;\n",
       "    }\n",
       "\n",
       "    .dataframe tbody tr th {\n",
       "        vertical-align: top;\n",
       "    }\n",
       "\n",
       "    .dataframe thead th {\n",
       "        text-align: right;\n",
       "    }\n",
       "</style>\n",
       "<table border=\"1\" class=\"dataframe\">\n",
       "  <thead>\n",
       "    <tr style=\"text-align: right;\">\n",
       "      <th></th>\n",
       "      <th>tconst</th>\n",
       "      <th>primary_title</th>\n",
       "      <th>original_title</th>\n",
       "      <th>start_year</th>\n",
       "      <th>runtime_minutes</th>\n",
       "      <th>genres</th>\n",
       "    </tr>\n",
       "  </thead>\n",
       "  <tbody>\n",
       "    <tr>\n",
       "      <th>0</th>\n",
       "      <td>tt0063540</td>\n",
       "      <td>Sunghursh</td>\n",
       "      <td>Sunghursh</td>\n",
       "      <td>2013</td>\n",
       "      <td>175.0</td>\n",
       "      <td>Action,Crime,Drama</td>\n",
       "    </tr>\n",
       "  </tbody>\n",
       "</table>\n",
       "</div>"
      ],
      "text/plain": [
       "      tconst primary_title original_title  start_year  runtime_minutes  \\\n",
       "0  tt0063540     Sunghursh      Sunghursh        2013            175.0   \n",
       "\n",
       "               genres  \n",
       "0  Action,Crime,Drama  "
      ]
     },
     "execution_count": 15,
     "metadata": {},
     "output_type": "execute_result"
    }
   ],
   "source": [
    "imdb_title_basics.head(1)"
   ]
  },
  {
   "cell_type": "code",
   "execution_count": 16,
   "metadata": {},
   "outputs": [],
   "source": [
    "# Change 'primary_title' to 'movie'\n",
    "imdb_title_basics = imdb_title_basics.rename(columns={'primary_title': 'movie'})"
   ]
  },
  {
   "cell_type": "code",
   "execution_count": 17,
   "metadata": {},
   "outputs": [],
   "source": [
    "# Merge movie_df and imdb_title_basics on 'movie'\n",
    "genere_df = pd.merge(movie_df, imdb_title_basics, how='left', on='movie')"
   ]
  },
  {
   "cell_type": "code",
   "execution_count": 18,
   "metadata": {},
   "outputs": [],
   "source": [
    "# Drop NaNs from 'genres'\n",
    "genere_df = genere_df.dropna(subset=['genres'])"
   ]
  },
  {
   "cell_type": "code",
   "execution_count": 19,
   "metadata": {},
   "outputs": [],
   "source": [
    "# Create a new column to reflect total profit\n",
    "genere_df['profit'] = genere_df['worldwide_gross'] - genere_df['production_budget']"
   ]
  },
  {
   "cell_type": "code",
   "execution_count": 20,
   "metadata": {},
   "outputs": [
    {
     "data": {
      "text/html": [
       "<div>\n",
       "<style scoped>\n",
       "    .dataframe tbody tr th:only-of-type {\n",
       "        vertical-align: middle;\n",
       "    }\n",
       "\n",
       "    .dataframe tbody tr th {\n",
       "        vertical-align: top;\n",
       "    }\n",
       "\n",
       "    .dataframe thead th {\n",
       "        text-align: right;\n",
       "    }\n",
       "</style>\n",
       "<table border=\"1\" class=\"dataframe\">\n",
       "  <thead>\n",
       "    <tr style=\"text-align: right;\">\n",
       "      <th></th>\n",
       "      <th>release_date</th>\n",
       "      <th>movie</th>\n",
       "      <th>production_budget</th>\n",
       "      <th>domestic_gross</th>\n",
       "      <th>worldwide_gross</th>\n",
       "      <th>title_id</th>\n",
       "      <th>tconst</th>\n",
       "      <th>original_title</th>\n",
       "      <th>start_year</th>\n",
       "      <th>runtime_minutes</th>\n",
       "      <th>genres</th>\n",
       "      <th>profit</th>\n",
       "    </tr>\n",
       "  </thead>\n",
       "  <tbody>\n",
       "    <tr>\n",
       "      <th>0</th>\n",
       "      <td>Dec 18, 2009</td>\n",
       "      <td>Avatar</td>\n",
       "      <td>425000000.0</td>\n",
       "      <td>$760,507,625</td>\n",
       "      <td>2.776345e+09</td>\n",
       "      <td>NaN</td>\n",
       "      <td>tt1775309</td>\n",
       "      <td>Abatâ</td>\n",
       "      <td>2011.0</td>\n",
       "      <td>93.0</td>\n",
       "      <td>Horror</td>\n",
       "      <td>2.351345e+09</td>\n",
       "    </tr>\n",
       "  </tbody>\n",
       "</table>\n",
       "</div>"
      ],
      "text/plain": [
       "   release_date   movie  production_budget domestic_gross  worldwide_gross  \\\n",
       "0  Dec 18, 2009  Avatar        425000000.0   $760,507,625     2.776345e+09   \n",
       "\n",
       "  title_id     tconst original_title  start_year  runtime_minutes  genres  \\\n",
       "0      NaN  tt1775309          Abatâ      2011.0             93.0  Horror   \n",
       "\n",
       "         profit  \n",
       "0  2.351345e+09  "
      ]
     },
     "execution_count": 20,
     "metadata": {},
     "output_type": "execute_result"
    }
   ],
   "source": [
    "genere_df.head(1)"
   ]
  },
  {
   "cell_type": "code",
   "execution_count": 21,
   "metadata": {},
   "outputs": [],
   "source": [
    "# Create list of items in 'generes' column\n",
    "list_of_genres = []\n",
    "for key, value in genere_df['genres'].items():\n",
    "    list_of_genres.append(value)"
   ]
  },
  {
   "cell_type": "code",
   "execution_count": 22,
   "metadata": {},
   "outputs": [
    {
     "data": {
      "text/plain": [
       "['Horror',\n",
       " 'Adventure',\n",
       " 'Family',\n",
       " 'Action,Adventure,Sci-Fi',\n",
       " 'Action,Adventure,Sci-Fi']"
      ]
     },
     "execution_count": 22,
     "metadata": {},
     "output_type": "execute_result"
    }
   ],
   "source": [
    "list_of_genres[0:5]"
   ]
  },
  {
   "cell_type": "code",
   "execution_count": 23,
   "metadata": {},
   "outputs": [],
   "source": [
    "# Split list of genre columns\n",
    "list_of_genres_full = []\n",
    "for x in list_of_genres:\n",
    "    list_of_genres_full.append(str(x).split(','))"
   ]
  },
  {
   "cell_type": "code",
   "execution_count": 24,
   "metadata": {},
   "outputs": [
    {
     "data": {
      "text/plain": [
       "[['Horror'],\n",
       " ['Adventure'],\n",
       " ['Family'],\n",
       " ['Action', 'Adventure', 'Sci-Fi'],\n",
       " ['Action', 'Adventure', 'Sci-Fi']]"
      ]
     },
     "execution_count": 24,
     "metadata": {},
     "output_type": "execute_result"
    }
   ],
   "source": [
    "list_of_genres_full[0:5]"
   ]
  },
  {
   "cell_type": "code",
   "execution_count": 25,
   "metadata": {},
   "outputs": [],
   "source": [
    "# Create list of individual genres\n",
    "genre_list = []\n",
    "for element in list_of_genres_full:\n",
    "    for item in element:\n",
    "        if item not in genre_list:\n",
    "            genre_list.append(item)"
   ]
  },
  {
   "cell_type": "code",
   "execution_count": 26,
   "metadata": {},
   "outputs": [
    {
     "name": "stdout",
     "output_type": "stream",
     "text": [
      "['Horror', 'Adventure', 'Family', 'Action', 'Sci-Fi', 'Crime', 'Thriller', 'Drama', 'Sport', 'Fantasy', 'Romance', 'Animation', 'Comedy', 'Musical', 'Documentary', 'Biography', 'Music', 'History', 'Mystery', 'Western', 'War', 'News', 'Reality-TV']\n"
     ]
    }
   ],
   "source": [
    "print(genre_list)"
   ]
  },
  {
   "cell_type": "code",
   "execution_count": 27,
   "metadata": {},
   "outputs": [],
   "source": [
    "# Create genre dictionary for gross with key 0\n",
    "genre_dict_gross = { i : 0 for i in genre_list }"
   ]
  },
  {
   "cell_type": "code",
   "execution_count": 28,
   "metadata": {},
   "outputs": [
    {
     "name": "stdout",
     "output_type": "stream",
     "text": [
      "{'Horror': 0, 'Adventure': 0, 'Family': 0, 'Action': 0, 'Sci-Fi': 0, 'Crime': 0, 'Thriller': 0, 'Drama': 0, 'Sport': 0, 'Fantasy': 0, 'Romance': 0, 'Animation': 0, 'Comedy': 0, 'Musical': 0, 'Documentary': 0, 'Biography': 0, 'Music': 0, 'History': 0, 'Mystery': 0, 'Western': 0, 'War': 0, 'News': 0, 'Reality-TV': 0}\n"
     ]
    }
   ],
   "source": [
    "print(genre_dict_gross)"
   ]
  },
  {
   "cell_type": "code",
   "execution_count": 29,
   "metadata": {},
   "outputs": [],
   "source": [
    "# Make genre dictionary key equal to total worldwide gross for each genre\n",
    "for index, row in genere_df.iterrows():\n",
    "    gross = row['worldwide_gross']\n",
    "    list_g = row['genres'].split(',')\n",
    "    for i in list_g:\n",
    "        genre_dict_gross[i] += gross"
   ]
  },
  {
   "cell_type": "code",
   "execution_count": 30,
   "metadata": {},
   "outputs": [
    {
     "name": "stdout",
     "output_type": "stream",
     "text": [
      "{'Horror': 38354358106.0, 'Adventure': 157260197402.0, 'Family': 51897204624.0, 'Action': 142056063685.0, 'Sci-Fi': 57287725647.0, 'Crime': 33726234053.0, 'Thriller': 66868002199.0, 'Drama': 182209412385.0, 'Sport': 8559405290.0, 'Fantasy': 53524012785.0, 'Romance': 35082967734.0, 'Animation': 56987821436.0, 'Comedy': 105205531703.0, 'Musical': 11941698836.0, 'Documentary': 87960442916.0, 'Biography': 30308030313.0, 'Music': 7069301234.0, 'History': 17234734622.0, 'Mystery': 23387901261.0, 'Western': 1696227711.0, 'War': 6298524339.0, 'News': 879951568.0, 'Reality-TV': 0.0}\n"
     ]
    }
   ],
   "source": [
    "print(genre_dict_gross)"
   ]
  },
  {
   "cell_type": "code",
   "execution_count": 31,
   "metadata": {},
   "outputs": [],
   "source": [
    "# Create genre dictionary for profit with key 0\n",
    "genre_dict_profit = { i : 0 for i in genre_list }"
   ]
  },
  {
   "cell_type": "code",
   "execution_count": 32,
   "metadata": {},
   "outputs": [],
   "source": [
    "# Make genre dictionary key equal to total profit for each genre\n",
    "for index, row in genere_df.iterrows():\n",
    "    profit = row['profit']\n",
    "    list_g = row['genres'].split(',')\n",
    "    for i in list_g:\n",
    "        genre_dict_profit[i] += profit"
   ]
  },
  {
   "cell_type": "code",
   "execution_count": 35,
   "metadata": {},
   "outputs": [
    {
     "data": {
      "image/png": "[encoded data removed]",
      "text/plain": [
       "<Figure size 1440x720 with 1 Axes>"
      ]
     },
     "metadata": {
      "needs_background": "light"
     },
     "output_type": "display_data"
    }
   ],
   "source": [
    "# Draw a visualization of the data\n",
    "fig, ax = plt.subplots(figsize=(20,10))\n",
    "\n",
    "labels = genre_list\n",
    "width = 0.35\n",
    "\n",
    "x = np.arange(len(labels))\n",
    "#x  = genre_dict_gross.keys()\n",
    "y1 = genre_dict_gross.values()\n",
    "y2 = genre_dict_profit.values()\n",
    "\n",
    "rects1 = ax.bar(x- width/2, y1, width, label='Gross')\n",
    "rects2 = ax.bar(x+ width/2, y2, width, label='Profit')\n",
    "\n",
    "ax.set_xticks(x)\n",
    "ax.set_xticklabels(labels)\n",
    "plt.rc('xtick', labelsize=20) \n",
    "plt.xticks(rotation=40)\n",
    "plt.rc('ytick', labelsize=20)\n",
    "ax.set_xlabel('Genres', fontsize=20)\n",
    "ax.set_ylabel('Worldwide Gross and Profit in Billions', fontsize=20)\n",
    "ax.set_title('Worldwide Gross and Profit by Genre', fontsize=20)\n",
    "ax.legend(loc=1, prop={'size': 20})\n",
    "\n",
    "#def autolabel(rects):\n",
    "#    \"\"\"Attach a text label above each bar in *rects*, displaying its height.\"\"\"\n",
    "#    for rect in rects:\n",
    "#        height = rect.get_height()\n",
    "#        ax.annotate('{}'.format(height),\n",
    "#                    xy=(rect.get_x() + rect.get_width() / 2, height),\n",
    "#                    xytext=(0, 3),  # 3 points vertical offset\n",
    "#                    textcoords=\"offset points\",\n",
    "#                    ha='center', va='bottom')\n",
    "\n",
    "#autolabel(rects1)\n",
    "#autolabel(rects2)       \n",
    "        \n",
    "fig.tight_layout()\n",
    "plt.show()"
   ]
  },
  {
   "cell_type": "code",
   "execution_count": null,
   "metadata": {},
   "outputs": [],
   "source": []
  }
 ],
 "metadata": {
  "kernelspec": {
   "display_name": "Python 3",
   "language": "python",
   "name": "python3"
  },
  "language_info": {
   "codemirror_mode": {
    "name": "ipython",
    "version": 3
   },
   "file_extension": ".py",
   "mimetype": "text/x-python",
   "name": "python",
   "nbconvert_exporter": "python",
   "pygments_lexer": "ipython3",
   "version": "3.8.5"
  }
 },
 "nbformat": 4,
 "nbformat_minor": 4
}
